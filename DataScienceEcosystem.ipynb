{
 "cells": [
  {
   "cell_type": "markdown",
   "id": "cd86b8df",
   "metadata": {},
   "source": [
    "# Data Science Tools and Ecosystem"
   ]
  },
  {
   "cell_type": "markdown",
   "id": "220d6da6",
   "metadata": {},
   "source": [
    "# In this notebook, Data Science Tools and Ecosystem are summarized."
   ]
  },
  {
   "cell_type": "markdown",
   "id": "3ea257f5",
   "metadata": {},
   "source": [
    "# Some of the popular languages that Data Scientists use are:"
   ]
  },
  {
   "cell_type": "markdown",
   "id": "e0182b5e",
   "metadata": {},
   "source": [
    "## ordered list\n",
    " - R\n",
    " - Python\n",
    " - SQL"
   ]
  },
  {
   "cell_type": "markdown",
   "id": "c750ee99",
   "metadata": {},
   "source": [
    "# Some of the commonly used libraries used by Data Scientists include:"
   ]
  },
  {
   "cell_type": "markdown",
   "id": "cc4cadb8",
   "metadata": {},
   "source": [
    "## ordered list\n",
    " - numpy\n",
    " - Matplotlib\n",
    " - Pandas "
   ]
  },
  {
   "cell_type": "markdown",
   "id": "886bb402",
   "metadata": {},
   "source": [
    "# table of Data Science tools"
   ]
  },
  {
   "cell_type": "markdown",
   "id": "48190a47",
   "metadata": {},
   "source": [
    "##  Data Science tools\n",
    "-R     -Jupyter Notebook    -Github"
   ]
  },
  {
   "cell_type": "markdown",
   "id": "23f8698c",
   "metadata": {},
   "source": [
    "### Below are a few examples of evaluating arithmetic expressions in Python"
   ]
  },
  {
   "cell_type": "markdown",
   "id": "c5581c93",
   "metadata": {},
   "source": [
    "# This a simple arithmetic expression to mutiply then add integers"
   ]
  },
  {
   "cell_type": "code",
   "execution_count": 18,
   "id": "3705a32e",
   "metadata": {},
   "outputs": [
    {
     "name": "stdout",
     "output_type": "stream",
     "text": [
      "7\n"
     ]
    }
   ],
   "source": [
    "A = 2\n",
    "B = 3\n",
    "C = 1\n",
    "D = (A*B)+C\n",
    "print(D)"
   ]
  },
  {
   "cell_type": "markdown",
   "id": "d615cb4a",
   "metadata": {},
   "source": [
    "# This will convert 200 minutes to hours by diving by 60"
   ]
  },
  {
   "cell_type": "code",
   "execution_count": 20,
   "id": "11396b8e",
   "metadata": {},
   "outputs": [
    {
     "name": "stdout",
     "output_type": "stream",
     "text": [
      "150 minutes is equal to 2.5 hours.\n"
     ]
    }
   ],
   "source": [
    "def minutes_to_hours(minutes):\n",
    "    hours = minutes / 60\n",
    "    return hours\n",
    "\n",
    "\n",
    "minutes = 150\n",
    "hours = minutes_to_hours(minutes)\n",
    "print(f\"{minutes} minutes is equal to {hours} hours.\")\n"
   ]
  },
  {
   "cell_type": "markdown",
   "id": "7879475e",
   "metadata": {},
   "source": [
    "# List popular languages for Data Science"
   ]
  },
  {
   "cell_type": "markdown",
   "id": "05b7cfdb",
   "metadata": {},
   "source": [
    "## **Objective**"
   ]
  },
  {
   "cell_type": "markdown",
   "id": "24e045c3",
   "metadata": {},
   "source": [
    "  1.R    2.PYTHON   3.SQL   4.RATTLE  5.JAVA"
   ]
  },
  {
   "cell_type": "markdown",
   "id": "31d98db6",
   "metadata": {},
   "source": [
    "# Author Name"
   ]
  },
  {
   "cell_type": "markdown",
   "id": "c293a770",
   "metadata": {},
   "source": [
    "Touseef alam awan"
   ]
  },
  {
   "cell_type": "code",
   "execution_count": null,
   "id": "8eb02bd8",
   "metadata": {},
   "outputs": [],
   "source": []
  }
 ],
 "metadata": {
  "kernelspec": {
   "display_name": "Python 3 (ipykernel)",
   "language": "python",
   "name": "python3"
  },
  "language_info": {
   "codemirror_mode": {
    "name": "ipython",
    "version": 3
   },
   "file_extension": ".py",
   "mimetype": "text/x-python",
   "name": "python",
   "nbconvert_exporter": "python",
   "pygments_lexer": "ipython3",
   "version": "3.11.5"
  }
 },
 "nbformat": 4,
 "nbformat_minor": 5
}
